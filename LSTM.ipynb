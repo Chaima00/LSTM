{
 "cells": [
  {
   "cell_type": "code",
   "execution_count": 1,
   "metadata": {},
   "outputs": [],
   "source": [
    "import numpy as np\n",
    "import pandas as pd\n",
    "import matplotlib.pyplot as plt\n",
    "from keras.models import Sequential\n",
    "from keras.layers import LSTM\n",
    "from keras.layers import Dropout\n",
    "from keras.layers import Dense"
   ]
  },
  {
   "cell_type": "code",
   "execution_count": 2,
   "metadata": {},
   "outputs": [],
   "source": [
    "data_train = pd.read_csv('D:/ML/training_data.csv')\n",
    "data_test = pd.read_csv('D:/ML/test_data.csv')"
   ]
  },
  {
   "cell_type": "code",
   "execution_count": 3,
   "metadata": {},
   "outputs": [],
   "source": [
    "data_train = data_train.iloc[:,1:2].values\n",
    "data_test = data_test.iloc[:,1:2].values"
   ]
  },
  {
   "cell_type": "code",
   "execution_count": 4,
   "metadata": {
    "scrolled": true
   },
   "outputs": [
    {
     "data": {
      "text/plain": [
       "[<matplotlib.lines.Line2D at 0x2088147df48>]"
      ]
     },
     "execution_count": 4,
     "metadata": {},
     "output_type": "execute_result"
    },
    {
     "data": {
      "image/png": "[encoded data removed]",
      "text/plain": [
       "<Figure size 432x288 with 1 Axes>"
      ]
     },
     "metadata": {
      "needs_background": "light"
     },
     "output_type": "display_data"
    }
   ],
   "source": [
    "plt.plot(data_train)"
   ]
  },
  {
   "cell_type": "code",
   "execution_count": 5,
   "metadata": {},
   "outputs": [],
   "source": [
    "from sklearn.preprocessing import MinMaxScaler\n",
    "\n",
    "scaler = MinMaxScaler()\n",
    "data_train_scaled = scaler.fit_transform(data_train)\n",
    "data_test_scaled = scaler.fit_transform(data_test)"
   ]
  },
  {
   "cell_type": "code",
   "execution_count": 6,
   "metadata": {},
   "outputs": [
    {
     "data": {
      "text/plain": [
       "array([[0.022744  ],\n",
       "       [0.02011732],\n",
       "       [0.01584005],\n",
       "       ...,\n",
       "       [0.98801121],\n",
       "       [0.9976395 ],\n",
       "       [1.        ]])"
      ]
     },
     "execution_count": 6,
     "metadata": {},
     "output_type": "execute_result"
    }
   ],
   "source": [
    "data_train_scaled"
   ]
  },
  {
   "cell_type": "markdown",
   "metadata": {},
   "source": [
    "MinMaxScaler?"
   ]
  },
  {
   "cell_type": "code",
   "execution_count": 7,
   "metadata": {},
   "outputs": [],
   "source": [
    "m_train, n_train = data_train.shape\n",
    "m_test, n_test = data_test.shape \n",
    "t_step = 60\n",
    "y_train = list()\n",
    "x_train = list()\n",
    "for i in range(t_step,m_train):\n",
    "    # Create temporary samples\n",
    "    sample_x_train = data_train_scaled[i-t_step:i]\n",
    "    sample_y_train = data_train_scaled[i]\n",
    "    \n",
    "# Let’s add a padding\n",
    "    # for sample size less than 60\n",
    "    if sample_x_train.shape[0] < t_step:\n",
    "        #we add an array of size (60-sample size, 1) one column\n",
    "        var = np.zeros((t_step - sample_x_train.shape[0]),1)\n",
    "        #and append it to the sample\n",
    "        sample_x_train = np.concatenate((sample_x_train, var), axis = 0)\n",
    "        sample_y_train = np.concatenate((sample_y_train, var), axis = 0)\n",
    "    # Adding to the lists x_train, y_train\n",
    "    x_train.append(sample_x_train)\n",
    "    y_train.append(sample_y_train)\n",
    "x_train = np.array(x_train)\n",
    "y_train = np.array(y_train)"
   ]
  },
  {
   "cell_type": "code",
   "execution_count": 8,
   "metadata": {},
   "outputs": [
    {
     "data": {
      "text/plain": [
       "(1955, 60, 1)"
      ]
     },
     "execution_count": 8,
     "metadata": {},
     "output_type": "execute_result"
    }
   ],
   "source": [
    "x_train.shape"
   ]
  },
  {
   "cell_type": "code",
   "execution_count": 9,
   "metadata": {},
   "outputs": [],
   "source": [
    "y_test = list()\n",
    "x_test = list()\n",
    "for i in range(t_step,n_test):\n",
    "    # Create temporary samples\n",
    "    sample_x_test = data_test_scaled[i-t_step:i]\n",
    "    sample_y_test = data_test_scaled[i]\n",
    "    \n",
    "# Let’s add a padding\n",
    "    # for sample size less than 60\n",
    "    if sample_x_test.shape[0] < t_step:\n",
    "        #we add an array of size (60-sample size, 1) one column\n",
    "        var = np.zeros((t_step - sample_x_test.shape[0]),1)\n",
    "        #and append it to the sample\n",
    "        sample_x_test = np.concatenate((sample_x_test, var), axis = 0)\n",
    "        sample_y_test = np.concatenate((sample_y_test, var), axis = 0)\n",
    "    # Adding to the lists x_test, y_test\n",
    "    x_test.append(sample_x_test)\n",
    "    y_test.append(sample_y_test)\n",
    "x_test = np.array(x_test)\n",
    "y_test = np.array(y_test)"
   ]
  },
  {
   "cell_type": "code",
   "execution_count": 10,
   "metadata": {},
   "outputs": [],
   "source": [
    "model = Sequential()\n",
    "model.add(LSTM(units = 50, activation = 'tanh', return_sequences = True, batch_size = (None, t_step, 1) ))\n",
    "model.add(Dropout(0.1))\n",
    "model.add(LSTM(units= 50, activation = 'tanh', return_sequences=False))\n",
    "model.add(Dropout(0.1))\n",
    "model.add(Dense(units=1))"
   ]
  },
  {
   "cell_type": "code",
   "execution_count": 11,
   "metadata": {},
   "outputs": [],
   "source": [
    "from keras.optimizers import Adam\n",
    "learning_rate = 0.5\n",
    "adam = Adam(learning_rate)\n",
    "model.compile(loss='MSE',optimizer = adam, metrics = ['accuracy'])"
   ]
  },
  {
   "cell_type": "code",
   "execution_count": 12,
   "metadata": {},
   "outputs": [
    {
     "name": "stdout",
     "output_type": "stream",
     "text": [
      "Epoch 1/10\n",
      "7/7 [==============================] - 1s 126ms/step - loss: 85.0860 - accuracy: 0.0000e+00\n",
      "Epoch 2/10\n",
      "7/7 [==============================] - 1s 123ms/step - loss: 28.7776 - accuracy: 5.1151e-04\n",
      "Epoch 3/10\n",
      "7/7 [==============================] - 1s 122ms/step - loss: 14.4673 - accuracy: 0.0000e+00\n",
      "Epoch 4/10\n",
      "7/7 [==============================] - 1s 117ms/step - loss: 7.6175 - accuracy: 0.0000e+00\n",
      "Epoch 5/10\n",
      "7/7 [==============================] - 1s 119ms/step - loss: 4.0400 - accuracy: 0.0000e+00\n",
      "Epoch 6/10\n",
      "7/7 [==============================] - 1s 118ms/step - loss: 2.2690 - accuracy: 0.0000e+00\n",
      "Epoch 7/10\n",
      "7/7 [==============================] - 1s 118ms/step - loss: 1.1180 - accuracy: 0.0000e+00\n",
      "Epoch 8/10\n",
      "7/7 [==============================] - 1s 117ms/step - loss: 0.5071 - accuracy: 5.1151e-04\n",
      "Epoch 9/10\n",
      "7/7 [==============================] - 1s 118ms/step - loss: 0.3013 - accuracy: 5.1151e-04\n",
      "Epoch 10/10\n",
      "7/7 [==============================] - 1s 118ms/step - loss: 0.2388 - accuracy: 0.0000e+00\n"
     ]
    },
    {
     "data": {
      "text/plain": [
       "<tensorflow.python.keras.callbacks.History at 0x208853cf808>"
      ]
     },
     "execution_count": 12,
     "metadata": {},
     "output_type": "execute_result"
    }
   ],
   "source": [
    "nb_epoch = 10\n",
    "batch_size = 300\n",
    "model.fit(x_train, y_train, batch_size = batch_size, epochs=nb_epoch, verbose = 1)"
   ]
  },
  {
   "cell_type": "code",
   "execution_count": 14,
   "metadata": {
    "scrolled": true
   },
   "outputs": [
    {
     "name": "stdout",
     "output_type": "stream",
     "text": [
      "Epoch 1/10\n",
      "7/7 [==============================] - 1s 115ms/step - loss: 0.1359 - accuracy: 0.0000e+00\n",
      "Epoch 2/10\n",
      "7/7 [==============================] - 1s 119ms/step - loss: 0.1075 - accuracy: 5.1151e-04\n",
      "Epoch 3/10\n",
      "7/7 [==============================] - 1s 120ms/step - loss: 0.0892 - accuracy: 5.1151e-04\n",
      "Epoch 4/10\n",
      "7/7 [==============================] - 1s 121ms/step - loss: 0.0735 - accuracy: 0.0000e+00\n",
      "Epoch 5/10\n",
      "7/7 [==============================] - 1s 124ms/step - loss: 0.0687 - accuracy: 5.1151e-04\n",
      "Epoch 6/10\n",
      "7/7 [==============================] - 1s 118ms/step - loss: 0.0631 - accuracy: 5.1151e-04\n",
      "Epoch 7/10\n",
      "7/7 [==============================] - 1s 119ms/step - loss: 0.0617 - accuracy: 0.0000e+00\n",
      "Epoch 8/10\n",
      "7/7 [==============================] - 1s 117ms/step - loss: 0.0626 - accuracy: 0.0000e+00\n",
      "Epoch 9/10\n",
      "7/7 [==============================] - 1s 120ms/step - loss: 0.0625 - accuracy: 0.0000e+00\n",
      "Epoch 10/10\n",
      "7/7 [==============================] - 1s 124ms/step - loss: 0.0605 - accuracy: 0.0000e+00\n",
      "dict_keys(['loss', 'accuracy'])\n"
     ]
    }
   ],
   "source": [
    "history = model.fit(x_train, y_train, batch_size = batch_size, epochs=nb_epoch, verbose = 1)"
   ]
  },
  {
   "cell_type": "code",
   "execution_count": null,
   "metadata": {},
   "outputs": [],
   "source": []
  },
  {
   "cell_type": "code",
   "execution_count": null,
   "metadata": {},
   "outputs": [],
   "source": []
  }
 ],
 "metadata": {
  "kernelspec": {
   "display_name": "Python 3",
   "language": "python",
   "name": "python3"
  },
  "language_info": {
   "codemirror_mode": {
    "name": "ipython",
    "version": 3
   },
   "file_extension": ".py",
   "mimetype": "text/x-python",
   "name": "python",
   "nbconvert_exporter": "python",
   "pygments_lexer": "ipython3",
   "version": "3.8.5"
  }
 },
 "nbformat": 4,
 "nbformat_minor": 4
}
